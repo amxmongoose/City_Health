{
 "cells": [
  {
   "cell_type": "code",
   "execution_count": null,
   "metadata": {},
   "outputs": [],
   "source": []
  },
  {
   "cell_type": "code",
   "execution_count": null,
   "metadata": {},
   "outputs": [],
   "source": []
  },
  {
   "cell_type": "code",
   "execution_count": null,
   "metadata": {},
   "outputs": [],
   "source": [
    "# 1. Draw the map background\n",
    "fig = plt.figure(figsize=(8, 8))\n",
    "\n",
    "m = Basemap(projection='lcc', \n",
    "            resolution='i', \n",
    "            lat_0=37.5, \n",
    "            lon_0=-119,\n",
    "            width=1E6, \n",
    "            height=1.2E6)\n",
    "\n",
    "m.shadedrelief()\n",
    "m.drawcoastlines(color='gray')\n",
    "#m.drawcounties()\n",
    "m.drawstates(color='gray')\n",
    "\n",
    "# 2. scatter city data, with color reflecting population\n",
    "# and size reflecting area\n",
    "m.scatter(lon, \n",
    "          lat, \n",
    "          latlon=True,\n",
    "          c=np.log10(population),\n",
    "          cmap='Blues', \n",
    "          alpha=0.9,\n",
    "          edgecolors = 'black')\n",
    "# s=area,\n",
    "# 3. create colorbar and legend\n",
    "plt.colorbar(label=r'Log10 Population')\n",
    "plt.clim(3, 7)\n",
    "\n",
    "# make legend with reference points\n",
    "for a in [100, 300, 500]:\n",
    "    plt.scatter([], \n",
    "                [], \n",
    "                c='k', \n",
    "                alpha=0.5, \n",
    "                s=a,\n",
    "                label=str(a) + ' km$^2$')\n",
    "    \n",
    "plt.legend(scatterpoints=1, \n",
    "           frameon=False,\n",
    "           labelspacing=1, \n",
    "           loc='lower left')"
   ]
  }
 ],
 "metadata": {
  "kernelspec": {
   "display_name": "Python [conda env:myenvironment]",
   "language": "python",
   "name": "conda-env-myenvironment-py"
  },
  "language_info": {
   "codemirror_mode": {
    "name": "ipython",
    "version": 3
   },
   "file_extension": ".py",
   "mimetype": "text/x-python",
   "name": "python",
   "nbconvert_exporter": "python",
   "pygments_lexer": "ipython3",
   "version": "3.6.4"
  }
 },
 "nbformat": 4,
 "nbformat_minor": 2
}
